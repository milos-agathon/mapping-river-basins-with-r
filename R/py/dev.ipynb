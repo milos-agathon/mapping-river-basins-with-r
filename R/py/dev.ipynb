{
 "cells": [
  {
   "cell_type": "code",
   "execution_count": 1,
   "metadata": {},
   "outputs": [
    {
     "name": "stdout",
     "output_type": "stream",
     "text": [
      "Getting World's Country Borders\n",
      "Filtering Country Border for: GR\n"
     ]
    }
   ],
   "source": [
    "import os\n",
    "import requests\n",
    "import zipfile\n",
    "import geopandas as gpd\n",
    "import pandas as pd\n",
    "import matplotlib.pyplot as plt\n",
    "from matplotlib import colormaps, pyplot as plt\n",
    "\n",
    "# INPUTS\n",
    "# Choices of Country Border geojson Resolutions.\n",
    "resolution_choices = [\"01M\", \"03M\", \"10M\", \"30M\", \"60M\"]\n",
    "\n",
    "# resolution_choices[4] is 60M\n",
    "res = resolution_choices[4]\n",
    "\n",
    "# Choose country from ISO code\n",
    "# country = \"US\"\n",
    "country = \"GR\"\n",
    "\n",
    "continent = \"eu\"  # na=North America, sa=South America, au=Australia, eu=Europe\n",
    "\n",
    "print(\"Getting World's Country Borders\")\n",
    "world_country_borders = gpd.read_file(\n",
    "    f\"https://gisco-services.ec.europa.eu/distribution/v2/countries/geojson/CNTR_RG_{res}_2020_4326.geojson\")\n",
    "print(f\"Filtering Country Border for: {country}\")\n",
    "country_border = world_country_borders[world_country_borders[\"CNTR_ID\"] == country]\n",
    "\n"
   ]
  },
  {
   "cell_type": "code",
   "execution_count": 12,
   "metadata": {},
   "outputs": [
    {
     "data": {
      "text/html": [
       "<div>\n",
       "<style scoped>\n",
       "    .dataframe tbody tr th:only-of-type {\n",
       "        vertical-align: middle;\n",
       "    }\n",
       "\n",
       "    .dataframe tbody tr th {\n",
       "        vertical-align: top;\n",
       "    }\n",
       "\n",
       "    .dataframe thead th {\n",
       "        text-align: right;\n",
       "    }\n",
       "</style>\n",
       "<table border=\"1\" class=\"dataframe\">\n",
       "  <thead>\n",
       "    <tr style=\"text-align: right;\">\n",
       "      <th></th>\n",
       "      <th>id</th>\n",
       "      <th>CNTR_ID</th>\n",
       "      <th>CNTR_NAME</th>\n",
       "      <th>NAME_ENGL</th>\n",
       "      <th>NAME_FREN</th>\n",
       "      <th>ISO3_CODE</th>\n",
       "      <th>SVRG_UN</th>\n",
       "      <th>CAPT</th>\n",
       "      <th>EU_STAT</th>\n",
       "      <th>EFTA_STAT</th>\n",
       "      <th>CC_STAT</th>\n",
       "      <th>NAME_GERM</th>\n",
       "      <th>FID</th>\n",
       "      <th>geometry</th>\n",
       "    </tr>\n",
       "  </thead>\n",
       "  <tbody>\n",
       "  </tbody>\n",
       "</table>\n",
       "</div>"
      ],
      "text/plain": [
       "Empty GeoDataFrame\n",
       "Columns: [id, CNTR_ID, CNTR_NAME, NAME_ENGL, NAME_FREN, ISO3_CODE, SVRG_UN, CAPT, EU_STAT, EFTA_STAT, CC_STAT, NAME_GERM, FID, geometry]\n",
       "Index: []"
      ]
     },
     "execution_count": 12,
     "metadata": {},
     "output_type": "execute_result"
    }
   ],
   "source": [
    "country_border"
   ]
  },
  {
   "cell_type": "code",
   "execution_count": 10,
   "metadata": {},
   "outputs": [],
   "source": [
    "# Clip US border to just CONUS - excludes Alaska, etc.\n",
    "if country == \"US\":\n",
    "    country_border = country_border.clip_by_rect(-140, 20, -50, 50)\n",
    "    # clip_by_rect returns a geoseries, so turning back to a GDF\n",
    "    country_border = gpd.GeoDataFrame(\n",
    "        geometry=gpd.GeoSeries(country_border))\n",
    "    country_border.plot()"
   ]
  },
  {
   "cell_type": "code",
   "execution_count": null,
   "metadata": {},
   "outputs": [
    {
     "name": "stdout",
     "output_type": "stream",
     "text": [
      "Getting Watershed Basin for Continent: eu\n",
      "Intersecting Country Border with Continent Watershed Basin.\n"
     ]
    }
   ],
   "source": [
    "# Get Continent-wide Watershed Basin Boundaries\n",
    "print(f\"Getting Watershed Basin for Continent: {continent}\")\n",
    "url = f\"https://data.hydrosheds.org/file/HydroBASINS/standard/hybas_{continent}_lev03_v1c.zip\"\n",
    "file_name = url.split(\"/\")[-1]\n",
    "\n",
    "r = requests.get(url)\n",
    "with open(file_name, 'wb') as outfile:\n",
    "    outfile.write(r.content)\n",
    "\n",
    "with zipfile.ZipFile(file_name, 'r') as zip_ref:\n",
    "    zip_ref.extractall()\n",
    "\n",
    "# Intersect Basin with only the wanted Country Boundary.\n",
    "print(\"Intersecting Country Border with Continent Watershed Basin.\")\n",
    "continent_basin = gpd.read_file(file_name.split(\".\")[0]+\".shp\")\n",
    "country_basin = gpd.overlay(\n",
    "    country_border, continent_basin, how='intersection')\n",
    "country_basin.plot()\n"
   ]
  },
  {
   "cell_type": "code",
   "execution_count": 9,
   "metadata": {},
   "outputs": [
    {
     "ename": "ValueError",
     "evalue": "aspect must be finite and positive ",
     "output_type": "error",
     "traceback": [
      "\u001b[1;31m---------------------------------------------------------------------------\u001b[0m",
      "\u001b[1;31mValueError\u001b[0m                                Traceback (most recent call last)",
      "Cell \u001b[1;32mIn[9], line 1\u001b[0m\n\u001b[1;32m----> 1\u001b[0m country_basin\u001b[39m.\u001b[39;49mplot()\n",
      "File \u001b[1;32mc:\\py3\\A3\\envs\\geo\\Lib\\site-packages\\geopandas\\plotting.py:969\u001b[0m, in \u001b[0;36mGeoplotAccessor.__call__\u001b[1;34m(self, *args, **kwargs)\u001b[0m\n\u001b[0;32m    967\u001b[0m kind \u001b[39m=\u001b[39m kwargs\u001b[39m.\u001b[39mpop(\u001b[39m\"\u001b[39m\u001b[39mkind\u001b[39m\u001b[39m\"\u001b[39m, \u001b[39m\"\u001b[39m\u001b[39mgeo\u001b[39m\u001b[39m\"\u001b[39m)\n\u001b[0;32m    968\u001b[0m \u001b[39mif\u001b[39;00m kind \u001b[39m==\u001b[39m \u001b[39m\"\u001b[39m\u001b[39mgeo\u001b[39m\u001b[39m\"\u001b[39m:\n\u001b[1;32m--> 969\u001b[0m     \u001b[39mreturn\u001b[39;00m plot_dataframe(data, \u001b[39m*\u001b[39;49margs, \u001b[39m*\u001b[39;49m\u001b[39m*\u001b[39;49mkwargs)\n\u001b[0;32m    970\u001b[0m \u001b[39mif\u001b[39;00m kind \u001b[39min\u001b[39;00m \u001b[39mself\u001b[39m\u001b[39m.\u001b[39m_pandas_kinds:\n\u001b[0;32m    971\u001b[0m     \u001b[39m# Access pandas plots\u001b[39;00m\n\u001b[0;32m    972\u001b[0m     \u001b[39mreturn\u001b[39;00m PlotAccessor(data)(kind\u001b[39m=\u001b[39mkind, \u001b[39m*\u001b[39m\u001b[39m*\u001b[39mkwargs)\n",
      "File \u001b[1;32mc:\\py3\\A3\\envs\\geo\\Lib\\site-packages\\geopandas\\plotting.py:681\u001b[0m, in \u001b[0;36mplot_dataframe\u001b[1;34m(df, column, cmap, color, ax, cax, categorical, legend, scheme, k, vmin, vmax, markersize, figsize, legend_kwds, categories, classification_kwds, missing_kwds, aspect, **style_kwds)\u001b[0m\n\u001b[0;32m    679\u001b[0m     bounds \u001b[39m=\u001b[39m df\u001b[39m.\u001b[39mtotal_bounds\n\u001b[0;32m    680\u001b[0m     y_coord \u001b[39m=\u001b[39m np\u001b[39m.\u001b[39mmean([bounds[\u001b[39m1\u001b[39m], bounds[\u001b[39m3\u001b[39m]])\n\u001b[1;32m--> 681\u001b[0m     ax\u001b[39m.\u001b[39;49mset_aspect(\u001b[39m1\u001b[39;49m \u001b[39m/\u001b[39;49m np\u001b[39m.\u001b[39;49mcos(y_coord \u001b[39m*\u001b[39;49m np\u001b[39m.\u001b[39;49mpi \u001b[39m/\u001b[39;49m \u001b[39m180\u001b[39;49m))\n\u001b[0;32m    682\u001b[0m     \u001b[39m# formula ported from R package sp\u001b[39;00m\n\u001b[0;32m    683\u001b[0m     \u001b[39m# https://github.com/edzer/sp/blob/master/R/mapasp.R\u001b[39;00m\n\u001b[0;32m    684\u001b[0m \u001b[39melse\u001b[39;00m:\n\u001b[0;32m    685\u001b[0m     ax\u001b[39m.\u001b[39mset_aspect(\u001b[39m\"\u001b[39m\u001b[39mequal\u001b[39m\u001b[39m\"\u001b[39m)\n",
      "File \u001b[1;32mc:\\py3\\A3\\envs\\geo\\Lib\\site-packages\\matplotlib\\axes\\_base.py:1669\u001b[0m, in \u001b[0;36m_AxesBase.set_aspect\u001b[1;34m(self, aspect, adjustable, anchor, share)\u001b[0m\n\u001b[0;32m   1667\u001b[0m     aspect \u001b[39m=\u001b[39m \u001b[39mfloat\u001b[39m(aspect)  \u001b[39m# raise ValueError if necessary\u001b[39;00m\n\u001b[0;32m   1668\u001b[0m     \u001b[39mif\u001b[39;00m aspect \u001b[39m<\u001b[39m\u001b[39m=\u001b[39m \u001b[39m0\u001b[39m \u001b[39mor\u001b[39;00m \u001b[39mnot\u001b[39;00m np\u001b[39m.\u001b[39misfinite(aspect):\n\u001b[1;32m-> 1669\u001b[0m         \u001b[39mraise\u001b[39;00m \u001b[39mValueError\u001b[39;00m(\u001b[39m\"\u001b[39m\u001b[39maspect must be finite and positive \u001b[39m\u001b[39m\"\u001b[39m)\n\u001b[0;32m   1671\u001b[0m \u001b[39mif\u001b[39;00m share:\n\u001b[0;32m   1672\u001b[0m     axes \u001b[39m=\u001b[39m {sibling \u001b[39mfor\u001b[39;00m name \u001b[39min\u001b[39;00m \u001b[39mself\u001b[39m\u001b[39m.\u001b[39m_axis_names\n\u001b[0;32m   1673\u001b[0m             \u001b[39mfor\u001b[39;00m sibling \u001b[39min\u001b[39;00m \u001b[39mself\u001b[39m\u001b[39m.\u001b[39m_shared_axes[name]\u001b[39m.\u001b[39mget_siblings(\u001b[39mself\u001b[39m)}\n",
      "\u001b[1;31mValueError\u001b[0m: aspect must be finite and positive "
     ]
    },
    {
     "data": {
      "image/png": "[encoded data removed]",
      "text/plain": [
       "<Figure size 640x480 with 1 Axes>"
      ]
     },
     "metadata": {},
     "output_type": "display_data"
    }
   ],
   "source": [
    "country_basin.plot()"
   ]
  },
  {
   "cell_type": "code",
   "execution_count": 8,
   "metadata": {},
   "outputs": [
    {
     "name": "stdout",
     "output_type": "stream",
     "text": [
      "Getting Continent Rivers.\n"
     ]
    },
    {
     "ename": "KeyboardInterrupt",
     "evalue": "",
     "output_type": "error",
     "traceback": [
      "\u001b[1;31m---------------------------------------------------------------------------\u001b[0m",
      "\u001b[1;31mKeyboardInterrupt\u001b[0m                         Traceback (most recent call last)",
      "Cell \u001b[1;32mIn[8], line 13\u001b[0m\n\u001b[0;32m     10\u001b[0m \u001b[39mwith\u001b[39;00m zipfile\u001b[39m.\u001b[39mZipFile(file_name, \u001b[39m'\u001b[39m\u001b[39mr\u001b[39m\u001b[39m'\u001b[39m) \u001b[39mas\u001b[39;00m zip_ref:\n\u001b[0;32m     11\u001b[0m     zip_ref\u001b[39m.\u001b[39mextractall()\n\u001b[1;32m---> 13\u001b[0m continent_rivers \u001b[39m=\u001b[39m gpd\u001b[39m.\u001b[39;49mread_file(os\u001b[39m.\u001b[39;49mpath\u001b[39m.\u001b[39;49mjoin(\n\u001b[0;32m     14\u001b[0m     \u001b[39mf\u001b[39;49m\u001b[39m\"\u001b[39;49m\u001b[39mHydroRIVERS_v10_\u001b[39;49m\u001b[39m{\u001b[39;49;00mcontinent\u001b[39m}\u001b[39;49;00m\u001b[39m_shp\u001b[39;49m\u001b[39m\"\u001b[39;49m, \u001b[39mf\u001b[39;49m\u001b[39m\"\u001b[39;49m\u001b[39mHydroRIVERS_v10_\u001b[39;49m\u001b[39m{\u001b[39;49;00mcontinent\u001b[39m}\u001b[39;49;00m\u001b[39m.shp\u001b[39;49m\u001b[39m\"\u001b[39;49m))\n\u001b[0;32m     16\u001b[0m \u001b[39m# Clip rivers to country_basin extent.\u001b[39;00m\n\u001b[0;32m     17\u001b[0m \u001b[39mprint\u001b[39m(\u001b[39m\"\u001b[39m\u001b[39mIntersecting Rivers with Country-wide watershed basin.\u001b[39m\u001b[39m\"\u001b[39m)\n",
      "File \u001b[1;32mc:\\py3\\A3\\envs\\geo\\Lib\\site-packages\\geopandas\\io\\file.py:281\u001b[0m, in \u001b[0;36m_read_file\u001b[1;34m(filename, bbox, mask, rows, engine, **kwargs)\u001b[0m\n\u001b[0;32m    278\u001b[0m     \u001b[39melse\u001b[39;00m:\n\u001b[0;32m    279\u001b[0m         path_or_bytes \u001b[39m=\u001b[39m filename\n\u001b[1;32m--> 281\u001b[0m     \u001b[39mreturn\u001b[39;00m _read_file_fiona(\n\u001b[0;32m    282\u001b[0m         path_or_bytes, from_bytes, bbox\u001b[39m=\u001b[39;49mbbox, mask\u001b[39m=\u001b[39;49mmask, rows\u001b[39m=\u001b[39;49mrows, \u001b[39m*\u001b[39;49m\u001b[39m*\u001b[39;49mkwargs\n\u001b[0;32m    283\u001b[0m     )\n\u001b[0;32m    285\u001b[0m \u001b[39melse\u001b[39;00m:\n\u001b[0;32m    286\u001b[0m     \u001b[39mraise\u001b[39;00m \u001b[39mValueError\u001b[39;00m(\u001b[39mf\u001b[39m\u001b[39m\"\u001b[39m\u001b[39munknown engine \u001b[39m\u001b[39m'\u001b[39m\u001b[39m{\u001b[39;00mengine\u001b[39m}\u001b[39;00m\u001b[39m'\u001b[39m\u001b[39m\"\u001b[39m)\n",
      "File \u001b[1;32mc:\\py3\\A3\\envs\\geo\\Lib\\site-packages\\geopandas\\io\\file.py:379\u001b[0m, in \u001b[0;36m_read_file_fiona\u001b[1;34m(path_or_bytes, from_bytes, bbox, mask, rows, where, **kwargs)\u001b[0m\n\u001b[0;32m    375\u001b[0m     df \u001b[39m=\u001b[39m pd\u001b[39m.\u001b[39mDataFrame(\n\u001b[0;32m    376\u001b[0m         [record[\u001b[39m\"\u001b[39m\u001b[39mproperties\u001b[39m\u001b[39m\"\u001b[39m] \u001b[39mfor\u001b[39;00m record \u001b[39min\u001b[39;00m f_filt], columns\u001b[39m=\u001b[39mcolumns\n\u001b[0;32m    377\u001b[0m     )\n\u001b[0;32m    378\u001b[0m \u001b[39melse\u001b[39;00m:\n\u001b[1;32m--> 379\u001b[0m     df \u001b[39m=\u001b[39m GeoDataFrame\u001b[39m.\u001b[39;49mfrom_features(\n\u001b[0;32m    380\u001b[0m         f_filt, crs\u001b[39m=\u001b[39;49mcrs, columns\u001b[39m=\u001b[39;49mcolumns \u001b[39m+\u001b[39;49m [\u001b[39m\"\u001b[39;49m\u001b[39mgeometry\u001b[39;49m\u001b[39m\"\u001b[39;49m]\n\u001b[0;32m    381\u001b[0m     )\n\u001b[0;32m    382\u001b[0m \u001b[39mfor\u001b[39;00m k \u001b[39min\u001b[39;00m datetime_fields:\n\u001b[0;32m    383\u001b[0m     as_dt \u001b[39m=\u001b[39m pd\u001b[39m.\u001b[39mto_datetime(df[k], errors\u001b[39m=\u001b[39m\u001b[39m\"\u001b[39m\u001b[39mignore\u001b[39m\u001b[39m\"\u001b[39m)\n",
      "File \u001b[1;32mc:\\py3\\A3\\envs\\geo\\Lib\\site-packages\\geopandas\\geodataframe.py:640\u001b[0m, in \u001b[0;36mGeoDataFrame.from_features\u001b[1;34m(cls, features, crs, columns)\u001b[0m\n\u001b[0;32m    637\u001b[0m \u001b[39mif\u001b[39;00m \u001b[39mhasattr\u001b[39m(feature, \u001b[39m\"\u001b[39m\u001b[39m__geo_interface__\u001b[39m\u001b[39m\"\u001b[39m):\n\u001b[0;32m    638\u001b[0m     feature \u001b[39m=\u001b[39m feature\u001b[39m.\u001b[39m__geo_interface__\n\u001b[0;32m    639\u001b[0m row \u001b[39m=\u001b[39m {\n\u001b[1;32m--> 640\u001b[0m     \u001b[39m\"\u001b[39m\u001b[39mgeometry\u001b[39m\u001b[39m\"\u001b[39m: shape(feature[\u001b[39m\"\u001b[39;49m\u001b[39mgeometry\u001b[39;49m\u001b[39m\"\u001b[39;49m]) \u001b[39mif\u001b[39;00m feature[\u001b[39m\"\u001b[39m\u001b[39mgeometry\u001b[39m\u001b[39m\"\u001b[39m] \u001b[39melse\u001b[39;00m \u001b[39mNone\u001b[39;00m\n\u001b[0;32m    641\u001b[0m }\n\u001b[0;32m    642\u001b[0m \u001b[39m# load properties\u001b[39;00m\n\u001b[0;32m    643\u001b[0m properties \u001b[39m=\u001b[39m feature[\u001b[39m\"\u001b[39m\u001b[39mproperties\u001b[39m\u001b[39m\"\u001b[39m]\n",
      "File \u001b[1;32mc:\\py3\\A3\\envs\\geo\\Lib\\site-packages\\shapely\\geometry\\geo.py:98\u001b[0m, in \u001b[0;36mshape\u001b[1;34m(context)\u001b[0m\n\u001b[0;32m     96\u001b[0m     \u001b[39mreturn\u001b[39;00m Point(ob[\u001b[39m\"\u001b[39m\u001b[39mcoordinates\u001b[39m\u001b[39m\"\u001b[39m])\n\u001b[0;32m     97\u001b[0m \u001b[39melif\u001b[39;00m geom_type \u001b[39m==\u001b[39m \u001b[39m\"\u001b[39m\u001b[39mlinestring\u001b[39m\u001b[39m\"\u001b[39m:\n\u001b[1;32m---> 98\u001b[0m     \u001b[39mreturn\u001b[39;00m LineString(ob[\u001b[39m\"\u001b[39;49m\u001b[39mcoordinates\u001b[39;49m\u001b[39m\"\u001b[39;49m])\n\u001b[0;32m     99\u001b[0m \u001b[39melif\u001b[39;00m geom_type \u001b[39m==\u001b[39m \u001b[39m\"\u001b[39m\u001b[39mlinearring\u001b[39m\u001b[39m\"\u001b[39m:\n\u001b[0;32m    100\u001b[0m     \u001b[39mreturn\u001b[39;00m LinearRing(ob[\u001b[39m\"\u001b[39m\u001b[39mcoordinates\u001b[39m\u001b[39m\"\u001b[39m])\n",
      "File \u001b[1;32mc:\\py3\\A3\\envs\\geo\\Lib\\site-packages\\shapely\\geometry\\linestring.py:73\u001b[0m, in \u001b[0;36mLineString.__new__\u001b[1;34m(self, coordinates)\u001b[0m\n\u001b[0;32m     68\u001b[0m \u001b[39mif\u001b[39;00m \u001b[39mlen\u001b[39m(coordinates) \u001b[39m==\u001b[39m \u001b[39m0\u001b[39m:\n\u001b[0;32m     69\u001b[0m     \u001b[39m# empty geometry\u001b[39;00m\n\u001b[0;32m     70\u001b[0m     \u001b[39m# TODO better constructor + should shapely.linestrings handle this?\u001b[39;00m\n\u001b[0;32m     71\u001b[0m     \u001b[39mreturn\u001b[39;00m shapely\u001b[39m.\u001b[39mfrom_wkt(\u001b[39m\"\u001b[39m\u001b[39mLINESTRING EMPTY\u001b[39m\u001b[39m\"\u001b[39m)\n\u001b[1;32m---> 73\u001b[0m geom \u001b[39m=\u001b[39m shapely\u001b[39m.\u001b[39;49mlinestrings(coordinates)\n\u001b[0;32m     74\u001b[0m \u001b[39mif\u001b[39;00m \u001b[39mnot\u001b[39;00m \u001b[39misinstance\u001b[39m(geom, LineString):\n\u001b[0;32m     75\u001b[0m     \u001b[39mraise\u001b[39;00m \u001b[39mValueError\u001b[39;00m(\u001b[39m\"\u001b[39m\u001b[39mInvalid values passed to LineString constructor\u001b[39m\u001b[39m\"\u001b[39m)\n",
      "File \u001b[1;32mc:\\py3\\A3\\envs\\geo\\Lib\\site-packages\\shapely\\decorators.py:77\u001b[0m, in \u001b[0;36mmultithreading_enabled.<locals>.wrapped\u001b[1;34m(*args, **kwargs)\u001b[0m\n\u001b[0;32m     75\u001b[0m     \u001b[39mfor\u001b[39;00m arr \u001b[39min\u001b[39;00m array_args:\n\u001b[0;32m     76\u001b[0m         arr\u001b[39m.\u001b[39mflags\u001b[39m.\u001b[39mwriteable \u001b[39m=\u001b[39m \u001b[39mFalse\u001b[39;00m\n\u001b[1;32m---> 77\u001b[0m     \u001b[39mreturn\u001b[39;00m func(\u001b[39m*\u001b[39;49margs, \u001b[39m*\u001b[39;49m\u001b[39m*\u001b[39;49mkwargs)\n\u001b[0;32m     78\u001b[0m \u001b[39mfinally\u001b[39;00m:\n\u001b[0;32m     79\u001b[0m     \u001b[39mfor\u001b[39;00m arr, old_flag \u001b[39min\u001b[39;00m \u001b[39mzip\u001b[39m(array_args, old_flags):\n",
      "File \u001b[1;32mc:\\py3\\A3\\envs\\geo\\Lib\\site-packages\\shapely\\creation.py:120\u001b[0m, in \u001b[0;36mlinestrings\u001b[1;34m(coords, y, z, indices, out, **kwargs)\u001b[0m\n\u001b[0;32m    118\u001b[0m coords \u001b[39m=\u001b[39m _xyz_to_coords(coords, y, z)\n\u001b[0;32m    119\u001b[0m \u001b[39mif\u001b[39;00m indices \u001b[39mis\u001b[39;00m \u001b[39mNone\u001b[39;00m:\n\u001b[1;32m--> 120\u001b[0m     \u001b[39mreturn\u001b[39;00m lib\u001b[39m.\u001b[39;49mlinestrings(coords, out\u001b[39m=\u001b[39;49mout, \u001b[39m*\u001b[39;49m\u001b[39m*\u001b[39;49mkwargs)\n\u001b[0;32m    121\u001b[0m \u001b[39melse\u001b[39;00m:\n\u001b[0;32m    122\u001b[0m     \u001b[39mreturn\u001b[39;00m simple_geometries_1d(coords, indices, GeometryType\u001b[39m.\u001b[39mLINESTRING, out\u001b[39m=\u001b[39mout)\n",
      "\u001b[1;31mKeyboardInterrupt\u001b[0m: "
     ]
    }
   ],
   "source": [
    "# Get Rivers\n",
    "print(\"Getting Continent Rivers.\")\n",
    "url = f\"https://data.hydrosheds.org/file/HydroRIVERS/HydroRIVERS_v10_{continent}_shp.zip\"\n",
    "file_name = url.split(\"/\")[-1]\n",
    "\n",
    "r = requests.get(url)\n",
    "with open(file_name, 'wb') as outfile:\n",
    "    outfile.write(r.content)\n",
    "\n",
    "with zipfile.ZipFile(file_name, 'r') as zip_ref:\n",
    "    zip_ref.extractall()\n",
    "\n",
    "continent_rivers = gpd.read_file(os.path.join(\n",
    "    f\"HydroRIVERS_v10_{continent}_shp\", f\"HydroRIVERS_v10_{continent}.shp\"))\n",
    "\n",
    "# Clip rivers to country_basin extent.\n",
    "print(\"Intersecting Rivers with Country-wide watershed basin.\")\n",
    "country_river_basin = gpd.overlay(\n",
    "    continent_rivers, country_basin, how='intersection')\n",
    "country_river_basin"
   ]
  },
  {
   "cell_type": "code",
   "execution_count": 5,
   "metadata": {},
   "outputs": [
    {
     "name": "stdout",
     "output_type": "stream",
     "text": [
      "apply width values to rivers.\n"
     ]
    },
    {
     "data": {
      "text/plain": [
       "array([], dtype=int64)"
      ]
     },
     "execution_count": 5,
     "metadata": {},
     "output_type": "execute_result"
    }
   ],
   "source": [
    "\n",
    "# RIVER WIDTH config\n",
    "country_river_basin['ORD_FLOW'].unique()\n",
    "\n",
    "def assign_river_width(row):\n",
    "    if row['ORD_FLOW'] == 1:\n",
    "        return 0.8\n",
    "    elif row['ORD_FLOW'] == 2:\n",
    "        return 0.7\n",
    "    elif row['ORD_FLOW'] == 3:\n",
    "        return 0.6\n",
    "    elif row['ORD_FLOW'] == 4:\n",
    "        return 0.45\n",
    "    elif row['ORD_FLOW'] == 5:\n",
    "        return 0.35\n",
    "    elif row['ORD_FLOW'] == 6:\n",
    "        return 0.25\n",
    "    elif row['ORD_FLOW'] == 7:\n",
    "        return 0.2\n",
    "    elif row['ORD_FLOW'] == 8:\n",
    "        return 0.15\n",
    "    elif row['ORD_FLOW'] == 9:\n",
    "        return 0.1\n",
    "    else:\n",
    "        return 0\n",
    "\n",
    "print(\"apply width values to rivers.\")\n",
    "country_river_basin['width'] = country_river_basin.apply(\n",
    "    assign_river_width, axis=1)\n",
    "\n",
    "country_river_basin['HYBAS_ID'].unique()"
   ]
  },
  {
   "cell_type": "code",
   "execution_count": 7,
   "metadata": {},
   "outputs": [
    {
     "data": {
      "text/html": [
       "<div>\n",
       "<style scoped>\n",
       "    .dataframe tbody tr th:only-of-type {\n",
       "        vertical-align: middle;\n",
       "    }\n",
       "\n",
       "    .dataframe tbody tr th {\n",
       "        vertical-align: top;\n",
       "    }\n",
       "\n",
       "    .dataframe thead th {\n",
       "        text-align: right;\n",
       "    }\n",
       "</style>\n",
       "<table border=\"1\" class=\"dataframe\">\n",
       "  <thead>\n",
       "    <tr style=\"text-align: right;\">\n",
       "      <th></th>\n",
       "      <th>HYRIV_ID</th>\n",
       "      <th>NEXT_DOWN_1</th>\n",
       "      <th>MAIN_RIV</th>\n",
       "      <th>LENGTH_KM</th>\n",
       "      <th>DIST_DN_KM</th>\n",
       "      <th>DIST_UP_KM</th>\n",
       "      <th>CATCH_SKM</th>\n",
       "      <th>UPLAND_SKM</th>\n",
       "      <th>ENDORHEIC</th>\n",
       "      <th>DIS_AV_CMS</th>\n",
       "      <th>...</th>\n",
       "      <th>DIST_MAIN</th>\n",
       "      <th>SUB_AREA</th>\n",
       "      <th>UP_AREA</th>\n",
       "      <th>PFAF_ID</th>\n",
       "      <th>ENDO</th>\n",
       "      <th>COAST</th>\n",
       "      <th>ORDER</th>\n",
       "      <th>SORT</th>\n",
       "      <th>geometry</th>\n",
       "      <th>width</th>\n",
       "    </tr>\n",
       "  </thead>\n",
       "  <tbody>\n",
       "  </tbody>\n",
       "</table>\n",
       "<p>0 rows × 42 columns</p>\n",
       "</div>"
      ],
      "text/plain": [
       "Empty GeoDataFrame\n",
       "Columns: [HYRIV_ID, NEXT_DOWN_1, MAIN_RIV, LENGTH_KM, DIST_DN_KM, DIST_UP_KM, CATCH_SKM, UPLAND_SKM, ENDORHEIC, DIS_AV_CMS, ORD_STRA, ORD_CLAS, ORD_FLOW, HYBAS_L12, id, CNTR_ID, CNTR_NAME, NAME_ENGL, NAME_FREN, ISO3_CODE, SVRG_UN, CAPT, EU_STAT, EFTA_STAT, CC_STAT, NAME_GERM, FID, HYBAS_ID, NEXT_DOWN_2, NEXT_SINK, MAIN_BAS, DIST_SINK, DIST_MAIN, SUB_AREA, UP_AREA, PFAF_ID, ENDO, COAST, ORDER, SORT, geometry, width]\n",
       "Index: []\n",
       "\n",
       "[0 rows x 42 columns]"
      ]
     },
     "execution_count": 7,
     "metadata": {},
     "output_type": "execute_result"
    }
   ],
   "source": [
    "country_river_basin"
   ]
  },
  {
   "cell_type": "code",
   "execution_count": 6,
   "metadata": {},
   "outputs": [
    {
     "name": "stdout",
     "output_type": "stream",
     "text": [
      "Setup Plot\n"
     ]
    },
    {
     "ename": "ValueError",
     "evalue": "aspect must be finite and positive ",
     "output_type": "error",
     "traceback": [
      "\u001b[1;31m---------------------------------------------------------------------------\u001b[0m",
      "\u001b[1;31mValueError\u001b[0m                                Traceback (most recent call last)",
      "Cell \u001b[1;32mIn[6], line 4\u001b[0m\n\u001b[0;32m      2\u001b[0m \u001b[39mprint\u001b[39m(\u001b[39m\"\u001b[39m\u001b[39mSetup Plot\u001b[39m\u001b[39m\"\u001b[39m)\n\u001b[0;32m      3\u001b[0m fig, ax \u001b[39m=\u001b[39m plt\u001b[39m.\u001b[39msubplots(figsize\u001b[39m=\u001b[39m(\u001b[39m7\u001b[39m, \u001b[39m7.75\u001b[39m))\n\u001b[1;32m----> 4\u001b[0m country_river_basin\u001b[39m.\u001b[39;49mplot(ax\u001b[39m=\u001b[39;49max, column\u001b[39m=\u001b[39;49m\u001b[39m'\u001b[39;49m\u001b[39mHYBAS_ID\u001b[39;49m\u001b[39m'\u001b[39;49m, cmap\u001b[39m=\u001b[39;49mcolormaps[\u001b[39m'\u001b[39;49m\u001b[39mtwilight\u001b[39;49m\u001b[39m'\u001b[39;49m],\n\u001b[0;32m      5\u001b[0m                             linewidth\u001b[39m=\u001b[39;49mcountry_river_basin[\u001b[39m'\u001b[39;49m\u001b[39mwidth\u001b[39;49m\u001b[39m'\u001b[39;49m],\n\u001b[0;32m      6\u001b[0m                             \u001b[39m#  edgecolor='black',\u001b[39;49;00m\n\u001b[0;32m      7\u001b[0m                             \u001b[39m#  alpha=country_river_basin['width'],\u001b[39;49;00m\n\u001b[0;32m      8\u001b[0m                             categorical\u001b[39m=\u001b[39;49m\u001b[39mTrue\u001b[39;49;00m,\n\u001b[0;32m      9\u001b[0m                             \u001b[39m#  legend=True\u001b[39;49;00m\n\u001b[0;32m     10\u001b[0m                             )\n\u001b[0;32m     11\u001b[0m ax\u001b[39m.\u001b[39mset_axis_off()\n",
      "File \u001b[1;32mc:\\py3\\A3\\envs\\geo\\Lib\\site-packages\\geopandas\\plotting.py:969\u001b[0m, in \u001b[0;36mGeoplotAccessor.__call__\u001b[1;34m(self, *args, **kwargs)\u001b[0m\n\u001b[0;32m    967\u001b[0m kind \u001b[39m=\u001b[39m kwargs\u001b[39m.\u001b[39mpop(\u001b[39m\"\u001b[39m\u001b[39mkind\u001b[39m\u001b[39m\"\u001b[39m, \u001b[39m\"\u001b[39m\u001b[39mgeo\u001b[39m\u001b[39m\"\u001b[39m)\n\u001b[0;32m    968\u001b[0m \u001b[39mif\u001b[39;00m kind \u001b[39m==\u001b[39m \u001b[39m\"\u001b[39m\u001b[39mgeo\u001b[39m\u001b[39m\"\u001b[39m:\n\u001b[1;32m--> 969\u001b[0m     \u001b[39mreturn\u001b[39;00m plot_dataframe(data, \u001b[39m*\u001b[39;49margs, \u001b[39m*\u001b[39;49m\u001b[39m*\u001b[39;49mkwargs)\n\u001b[0;32m    970\u001b[0m \u001b[39mif\u001b[39;00m kind \u001b[39min\u001b[39;00m \u001b[39mself\u001b[39m\u001b[39m.\u001b[39m_pandas_kinds:\n\u001b[0;32m    971\u001b[0m     \u001b[39m# Access pandas plots\u001b[39;00m\n\u001b[0;32m    972\u001b[0m     \u001b[39mreturn\u001b[39;00m PlotAccessor(data)(kind\u001b[39m=\u001b[39mkind, \u001b[39m*\u001b[39m\u001b[39m*\u001b[39mkwargs)\n",
      "File \u001b[1;32mc:\\py3\\A3\\envs\\geo\\Lib\\site-packages\\geopandas\\plotting.py:681\u001b[0m, in \u001b[0;36mplot_dataframe\u001b[1;34m(df, column, cmap, color, ax, cax, categorical, legend, scheme, k, vmin, vmax, markersize, figsize, legend_kwds, categories, classification_kwds, missing_kwds, aspect, **style_kwds)\u001b[0m\n\u001b[0;32m    679\u001b[0m     bounds \u001b[39m=\u001b[39m df\u001b[39m.\u001b[39mtotal_bounds\n\u001b[0;32m    680\u001b[0m     y_coord \u001b[39m=\u001b[39m np\u001b[39m.\u001b[39mmean([bounds[\u001b[39m1\u001b[39m], bounds[\u001b[39m3\u001b[39m]])\n\u001b[1;32m--> 681\u001b[0m     ax\u001b[39m.\u001b[39;49mset_aspect(\u001b[39m1\u001b[39;49m \u001b[39m/\u001b[39;49m np\u001b[39m.\u001b[39;49mcos(y_coord \u001b[39m*\u001b[39;49m np\u001b[39m.\u001b[39;49mpi \u001b[39m/\u001b[39;49m \u001b[39m180\u001b[39;49m))\n\u001b[0;32m    682\u001b[0m     \u001b[39m# formula ported from R package sp\u001b[39;00m\n\u001b[0;32m    683\u001b[0m     \u001b[39m# https://github.com/edzer/sp/blob/master/R/mapasp.R\u001b[39;00m\n\u001b[0;32m    684\u001b[0m \u001b[39melse\u001b[39;00m:\n\u001b[0;32m    685\u001b[0m     ax\u001b[39m.\u001b[39mset_aspect(\u001b[39m\"\u001b[39m\u001b[39mequal\u001b[39m\u001b[39m\"\u001b[39m)\n",
      "File \u001b[1;32mc:\\py3\\A3\\envs\\geo\\Lib\\site-packages\\matplotlib\\axes\\_base.py:1669\u001b[0m, in \u001b[0;36m_AxesBase.set_aspect\u001b[1;34m(self, aspect, adjustable, anchor, share)\u001b[0m\n\u001b[0;32m   1667\u001b[0m     aspect \u001b[39m=\u001b[39m \u001b[39mfloat\u001b[39m(aspect)  \u001b[39m# raise ValueError if necessary\u001b[39;00m\n\u001b[0;32m   1668\u001b[0m     \u001b[39mif\u001b[39;00m aspect \u001b[39m<\u001b[39m\u001b[39m=\u001b[39m \u001b[39m0\u001b[39m \u001b[39mor\u001b[39;00m \u001b[39mnot\u001b[39;00m np\u001b[39m.\u001b[39misfinite(aspect):\n\u001b[1;32m-> 1669\u001b[0m         \u001b[39mraise\u001b[39;00m \u001b[39mValueError\u001b[39;00m(\u001b[39m\"\u001b[39m\u001b[39maspect must be finite and positive \u001b[39m\u001b[39m\"\u001b[39m)\n\u001b[0;32m   1671\u001b[0m \u001b[39mif\u001b[39;00m share:\n\u001b[0;32m   1672\u001b[0m     axes \u001b[39m=\u001b[39m {sibling \u001b[39mfor\u001b[39;00m name \u001b[39min\u001b[39;00m \u001b[39mself\u001b[39m\u001b[39m.\u001b[39m_axis_names\n\u001b[0;32m   1673\u001b[0m             \u001b[39mfor\u001b[39;00m sibling \u001b[39min\u001b[39;00m \u001b[39mself\u001b[39m\u001b[39m.\u001b[39m_shared_axes[name]\u001b[39m.\u001b[39mget_siblings(\u001b[39mself\u001b[39m)}\n",
      "\u001b[1;31mValueError\u001b[0m: aspect must be finite and positive "
     ]
    },
    {
     "data": {
      "image/png": "[encoded data removed]",
      "text/plain": [
       "<Figure size 700x775 with 1 Axes>"
      ]
     },
     "metadata": {},
     "output_type": "display_data"
    }
   ],
   "source": [
    "# PLOT\n",
    "print(\"Setup Plot\")\n",
    "fig, ax = plt.subplots(figsize=(7, 7.75))\n",
    "country_river_basin.plot(ax=ax, column='HYBAS_ID', cmap=colormaps['twilight'],\n",
    "                            linewidth=country_river_basin['width'],\n",
    "                            #  edgecolor='black',\n",
    "                            #  alpha=country_river_basin['width'],\n",
    "                            categorical=True,\n",
    "                            #  legend=True\n",
    "                            )\n",
    "ax.set_axis_off()"
   ]
  },
  {
   "cell_type": "code",
   "execution_count": null,
   "metadata": {},
   "outputs": [],
   "source": [
    "print(\"Save Plot\")\n",
    "fig.savefig(f'{country}-river-basins.png', dpi=600,\n",
    "            bbox_inches='tight', pad_inches=0, transparent=True)\n",
    "\n"
   ]
  }
 ],
 "metadata": {
  "kernelspec": {
   "display_name": "geo",
   "language": "python",
   "name": "python3"
  },
  "language_info": {
   "codemirror_mode": {
    "name": "ipython",
    "version": 3
   },
   "file_extension": ".py",
   "mimetype": "text/x-python",
   "name": "python",
   "nbconvert_exporter": "python",
   "pygments_lexer": "ipython3",
   "version": "3.11.4"
  },
  "orig_nbformat": 4
 },
 "nbformat": 4,
 "nbformat_minor": 2
}
